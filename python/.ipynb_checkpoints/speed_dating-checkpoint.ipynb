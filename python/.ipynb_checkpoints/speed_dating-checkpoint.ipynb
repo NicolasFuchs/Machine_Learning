{
 "cells": [
  {
   "cell_type": "code",
   "execution_count": 1,
   "metadata": {
    "collapsed": true
   },
   "outputs": [],
   "source": [
    "%matplotlib inline\n",
    "import matplotlib\n",
    "import matplotlib.pyplot as plt\n",
    "import matplotlib.mlab as mlab\n",
    "from matplotlib.colors import ListedColormap\n",
    "import numpy as np\n",
    "import csv\n",
    "from sklearn.model_selection import train_test_split"
   ]
  },
  {
   "cell_type": "code",
   "execution_count": 7,
   "metadata": {},
   "outputs": [],
   "source": [
    "def read_train(fileName):\n",
    "    data = []\n",
    "    target = []\n",
    "    features_names = []\n",
    "    \n",
    "    with open(fileName, 'r') as f:\n",
    "        reader = csv.DictReader(f, delimiter=',')\n",
    "        first = 1\n",
    "        for row in reader:\n",
    "            if first == 1:\n",
    "                for col in row:     \n",
    "                    features_names.append(col)\n",
    "            \n",
    "                features_names = features_names[1:-1]\n",
    "                first = 0\n",
    "        \n",
    "            r = []\n",
    "            for col in range(len(features_names)):\n",
    "                r.append(row[features_names[col]])\n",
    "                \n",
    "            data.append(r)\n",
    "            target.append(row['match'])\n",
    "                \n",
    "    return np.array(data), np.array(target), np.array(features_names)                "
   ]
  },
  {
   "cell_type": "code",
   "execution_count": 8,
   "metadata": {
    "collapsed": true
   },
   "outputs": [],
   "source": [
    "def read_test(fileName):\n",
    "    data = np.array([])\n",
    "    features_names = np.array([])\n",
    "    \n",
    "    with open(fileName, 'r') as f:\n",
    "        reader = csv.DictReader(f, delimiter=',')\n",
    "        first = 1\n",
    "        for row in reader:\n",
    "            if first == 1:\n",
    "                for col in row:     \n",
    "                    features_names.append(col)\n",
    "            \n",
    "                features_names.pop(0)\n",
    "                first = 0\n",
    "        \n",
    "            r = np.array([])\n",
    "            for col in range(len(features_names)):\n",
    "                r.append(row[features_names[col]])\n",
    "                \n",
    "            data.append(r)\n",
    "            print(r)\n",
    "                \n",
    "    return np.array(data), np.array(features_names)"
   ]
  },
  {
   "cell_type": "code",
   "execution_count": 9,
   "metadata": {},
   "outputs": [
    {
     "name": "stdout",
     "output_type": "stream",
     "text": [
      "7978\n",
      "61\n",
      "7978\n",
      "['gender' 'age' 'age_o' 'race' 'race_o' 'importance_same_race'\n",
      " 'importance_same_religion' 'field' 'attractive_important'\n",
      " 'sincere_important' 'intellicence_important' 'funny_important'\n",
      " 'ambtition_important' 'shared_interests_important' 'attractive' 'sincere'\n",
      " 'intelligence' 'funny' 'ambition' 'attractive_partner' 'sincere_partner'\n",
      " 'intelligence_partner' 'funny_partner' 'ambition_partner'\n",
      " 'shared_interests_partner' 'pref_o_attractive' 'pref_o_sincere'\n",
      " 'pref_o_intelligence' 'pref_o_funny' 'pref_o_ambitious'\n",
      " 'pref_o_shared_interests' 'attractive_o' 'sinsere_o' 'intelligence_o'\n",
      " 'funny_o' 'ambitous_o' 'shared_interests_o' 'sports' 'tvsports' 'exercise'\n",
      " 'dining' 'museums' 'art' 'hiking' 'gaming' 'clubbing' 'reading' 'tv'\n",
      " 'theater' 'movies' 'concerts' 'music' 'shopping' 'yoga'\n",
      " 'interests_correlate' 'expected_happy_with_sd_people'\n",
      " 'expected_num_interested_in_me' 'expected_num_matches' 'like'\n",
      " 'guess_prob_liked' 'met']\n"
     ]
    }
   ],
   "source": [
    "X_all, y_all, features_names = read_train('../dataset/train.csv')\n",
    "#X_final_test, features_names_t = read_test('../dataset/test.csv')\n",
    "\n",
    "if True:\n",
    "    print(len(X_all))\n",
    "    print(len(features_names))\n",
    "    print(len(y_all))\n",
    "    print(features_names)\n",
    "    #print(X_all)\n",
    "    #print(y_all)\n",
    "\n",
    "    #print(len(X_final_test))\n",
    "    #print(len(features_names_t))            "
   ]
  },
  {
   "cell_type": "code",
   "execution_count": null,
   "metadata": {
    "collapsed": true
   },
   "outputs": [],
   "source": [
    "# Split datas in 2 parts (80% for trainning/validation and 20% for test)\n",
    "X_train, X_test, y_train, y_test = train_test_split(X_all, y_all, test_size=0.2, random_state=42, shuffle=True, stratify=y_all)\n",
    "\n",
    "print(X_train.shape)\n",
    "print(y_train.shape)\n",
    "print(X_test.shape)\n",
    "print(y_test.shape)"
   ]
  },
  {
   "cell_type": "code",
   "execution_count": null,
   "metadata": {
    "collapsed": true
   },
   "outputs": [],
   "source": []
  }
 ],
 "metadata": {
  "kernelspec": {
   "display_name": "Python 3",
   "language": "python",
   "name": "python3"
  },
  "language_info": {
   "codemirror_mode": {
    "name": "ipython",
    "version": 3
   },
   "file_extension": ".py",
   "mimetype": "text/x-python",
   "name": "python",
   "nbconvert_exporter": "python",
   "pygments_lexer": "ipython3",
   "version": "3.6.3"
  }
 },
 "nbformat": 4,
 "nbformat_minor": 2
}
