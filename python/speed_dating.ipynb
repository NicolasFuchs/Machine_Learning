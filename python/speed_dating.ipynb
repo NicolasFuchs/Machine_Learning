{
 "cells": [
  {
   "cell_type": "code",
   "execution_count": 2,
   "metadata": {
    "collapsed": true
   },
   "outputs": [],
   "source": [
    "import csv\n"
   ]
  },
  {
   "cell_type": "code",
   "execution_count": 3,
   "metadata": {
    "collapsed": true
   },
   "outputs": [],
   "source": [
    "def read_train(fileName):\n",
    "    data = []\n",
    "    target = []\n",
    "    features_names = []\n",
    "    \n",
    "    with open(fileName, 'r') as f:\n",
    "        reader = csv.DictReader(f, delimiter=',')\n",
    "        first = 1\n",
    "        for row in reader:\n",
    "            if first == 1:\n",
    "                for col in row:     \n",
    "                    features_names.append(col)\n",
    "            \n",
    "                features_names = features_names[:-1]\n",
    "                features_names.pop(0)\n",
    "                first = 0\n",
    "        \n",
    "            r = []\n",
    "            for col in range(len(features_names)):\n",
    "                r.append(row[features_names[col]])\n",
    "                \n",
    "            data.append(r)\n",
    "            target.append(row['match'])\n",
    "                \n",
    "    return data, target, features_names                "
   ]
  },
  {
   "cell_type": "code",
   "execution_count": 4,
   "metadata": {
    "collapsed": true
   },
   "outputs": [],
   "source": [
    "def read_test(fileName):\n",
    "    data = []\n",
    "    features_names = []\n",
    "    \n",
    "    with open(fileName, 'r') as f:\n",
    "        reader = csv.DictReader(f, delimiter=',')\n",
    "        first = 1\n",
    "        for row in reader:\n",
    "            if first == 1:\n",
    "                for col in row:     \n",
    "                    features_names.append(col)\n",
    "            \n",
    "                features_names.pop(0)\n",
    "                first = 0\n",
    "        \n",
    "            r = []\n",
    "            for col in range(len(features_names)):\n",
    "                r.append(row[features_names[col]])\n",
    "                \n",
    "            data.append(r)\n",
    "                \n",
    "    return data, features_names "
   ]
  },
  {
   "cell_type": "code",
   "execution_count": 8,
   "metadata": {},
   "outputs": [],
   "source": [
    "X_train, y_train, features_names = read_train('../dataset/train.csv')\n",
    "X_test, features_names_t = read_test('../dataset/test.csv')\n",
    "\n",
    "if False:\n",
    "    print(len(X_train))\n",
    "    print(len(features_names))\n",
    "    print(len(y_train))\n",
    "    print(len(y_train[0]))\n",
    "    print(features_names)\n",
    "    #print(X_train)\n",
    "    #print(y_train)\n",
    "\n",
    "    print(len(X_test))\n",
    "    print(len(features_names_t))            "
   ]
  },
  {
   "cell_type": "code",
   "execution_count": null,
   "metadata": {
    "collapsed": true
   },
   "outputs": [],
   "source": []
  }
 ],
 "metadata": {
  "kernelspec": {
   "display_name": "Python 3",
   "language": "python",
   "name": "python3"
  },
  "language_info": {
   "codemirror_mode": {
    "name": "ipython",
    "version": 3
   },
   "file_extension": ".py",
   "mimetype": "text/x-python",
   "name": "python",
   "nbconvert_exporter": "python",
   "pygments_lexer": "ipython3",
   "version": "3.6.3"
  }
 },
 "nbformat": 4,
 "nbformat_minor": 2
}
