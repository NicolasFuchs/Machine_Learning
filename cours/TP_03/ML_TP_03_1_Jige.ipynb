{
 "cells": [
  {
   "cell_type": "code",
   "execution_count": 1,
   "metadata": {},
   "outputs": [],
   "source": [
    "%matplotlib inline\n",
    "import matplotlib\n",
    "import matplotlib.pyplot as plt\n",
    "from matplotlib.colors import ListedColormap\n"
   ]
  },
  {
   "cell_type": "code",
   "execution_count": 2,
   "metadata": {},
   "outputs": [],
   "source": [
    "import numpy as np"
   ]
  },
  {
   "cell_type": "code",
   "execution_count": 5,
   "metadata": {},
   "outputs": [],
   "source": [
    "from sklearn import neighbors, datasets\n",
    "from sklearn.model_selection import KFold\n",
    "from sklearn.model_selection import train_test_split\n",
    "from sklearn.preprocessing import normalize\n",
    "from sklearn import preprocessing\n",
    "from sklearn.model_selection import cross_val_score\n",
    "import sklearn.metrics as metrics\n",
    "import itertools"
   ]
  },
  {
   "cell_type": "code",
   "execution_count": 6,
   "metadata": {},
   "outputs": [],
   "source": [
    "def normalize_feature(minRange, maxRange, values, copy=True):\n",
    "    minVal = min(values)\n",
    "    maxVal = max(values)\n",
    "\n",
    "    if copy == True:\n",
    "        res = []\n",
    "        for (i,val) in enumerate(values):\n",
    "            res.append((val - minVal) / (maxVal - minVal) * (maxRange-minRange) + minRange)\n",
    "            \n",
    "        return res\n",
    "    else:\n",
    "        for (i,val) in enumerate(values):\n",
    "            values[i] = (val - minVal) / (maxVal - minVal) * (maxRange-minRange) + minRange\n",
    "    \n",
    "        return values"
   ]
  },
  {
   "cell_type": "code",
   "execution_count": 7,
   "metadata": {},
   "outputs": [
    {
     "name": "stdout",
     "output_type": "stream",
     "text": [
      "[20.0, 10.0, 40.0, 90.0, 100.0, 30.0, 60.0]\n",
      "[-3.3333333333333335, -5.0, 0.0, 8.333333333333332, 10.0, -1.666666666666667, 3.333333333333334]\n",
      "[-3.3333333333333335, -5.0, 0.0, 8.333333333333332, 10.0, -1.666666666666667, 3.333333333333334]\n",
      "[-3.3333333333333335, -5.0, 0.0, 8.333333333333332, 10.0, -1.666666666666667, 3.333333333333334]\n"
     ]
    }
   ],
   "source": [
    "# mini test\n",
    "t1 = [20.,10.,40.,90.,100.,30.,60.]\n",
    "t2 = normalize_feature(-5,10,t1)\n",
    "print(t1)\n",
    "t3 = normalize_feature(-5,10,t1, False)\n",
    "print(t1)\n",
    "print(t2)\n",
    "print(t3)\n",
    "\n",
    "# t = preprocessing.normalize(test, norm='l2')\n",
    "# t"
   ]
  },
  {
   "cell_type": "markdown",
   "metadata": {},
   "source": [
    "Q1: Is it always useful to apply feature normalization? If you don’t think so, give an example.\n",
    "\n",
    "NO:\n",
    "\n",
    "1. Of course for all non-numeric values. (\"White\", \"Black\", \"Pink\", ....)\n",
    "2. For all great selectivity values (0,1,2).\n",
    "3. If the algorithm works better with integers than floats\n",
    "4. If the values have several significations (1=red, 2=blue, 3=green)\n"
   ]
  },
  {
   "cell_type": "code",
   "execution_count": 8,
   "metadata": {},
   "outputs": [
    {
     "name": "stdout",
     "output_type": "stream",
     "text": [
      "(150, 4)\n",
      "(150,)\n",
      "[0 1 2]\n"
     ]
    }
   ],
   "source": [
    "# import some data to play with\n",
    "iris = datasets.load_iris()\n",
    "X = iris.data\n",
    "y = iris.target\n",
    "print (X.shape)\n",
    "print (y.shape)\n",
    "print (np.unique(y))"
   ]
  },
  {
   "cell_type": "markdown",
   "metadata": {},
   "source": [
    "We have 150 rows in our dataset.\n",
    "We choose 5 as number of folds (arbitrary)"
   ]
  },
  {
   "cell_type": "markdown",
   "metadata": {},
   "source": [
    "We have 4 iterations with 3 folds for trainning set and 1 for validation (the last one is kept for testing)"
   ]
  },
  {
   "cell_type": "code",
   "execution_count": 9,
   "metadata": {},
   "outputs": [
    {
     "name": "stdout",
     "output_type": "stream",
     "text": [
      "[ 0.93333333  0.96666667  0.96666667  1.        ]\n",
      "Accuracy: 0.97 (+/- 0.05)\n",
      "\n",
      "Accuracy = 1.0\n",
      "Precision = [ 1.  1.  1.]\n",
      "Report =\n",
      "              precision    recall  f1-score   support\n",
      "\n",
      "          0       1.00      1.00      1.00        10\n",
      "          1       1.00      1.00      1.00        10\n",
      "          2       1.00      1.00      1.00        10\n",
      "\n",
      "avg / total       1.00      1.00      1.00        30\n",
      "\n"
     ]
    }
   ],
   "source": [
    "# Split datas in 2 parts (80% for trainning/validation and 20% for test)\n",
    "X_train, X_test, y_train, y_test = train_test_split(X, y, test_size=0.2, random_state=42, shuffle=True, stratify=y)\n",
    "clf = neighbors.KNeighborsClassifier(n_neighbors=3, weights='distance')\n",
    "\n",
    "# Use 80% for trainning/validation\n",
    "scores = cross_val_score(clf, X_train, y_train, cv=4)\n",
    "print(scores)\n",
    "print(\"Accuracy: %0.2f (+/- %0.2f)\" % (scores.mean(), scores.std() * 2))\n",
    "print()\n",
    "\n",
    "# specify trainning (K-NN) set\n",
    "clf.fit(X_train, y_train)\n",
    "# ask for prediction\n",
    "y_pred = clf.predict(X_test)\n",
    "# compute scores\n",
    "accuracy_score = metrics.accuracy_score(y_test, y_pred)\n",
    "precision_score = metrics.precision_score(y_test, y_pred, average=None)\n",
    "classification_report = metrics.classification_report(y_test, y_pred)\n",
    "print('Accuracy =', accuracy_score)\n",
    "print('Precision =', precision_score)\n",
    "print('Report =\\n', classification_report)"
   ]
  },
  {
   "cell_type": "markdown",
   "metadata": {},
   "source": [
    "Remarque:\n",
    "\n",
    "After many tunning cycles, k=3 is enought to obtain a perfect result. The teacher say it's due to very easy dataset.\n",
    "\n",
    "So, with 3 features and 3 neighbors 100% of samples are reconnized"
   ]
  },
  {
   "cell_type": "markdown",
   "metadata": {},
   "source": [
    "Q2: What is StratifiedKFold and why/when should we use it?\n",
    "\n",
    "Ensure all folds use a good features repartition. If data sample is sorted by features it's critical. (Trainning with sorted features cause a big deviation)"
   ]
  },
  {
   "cell_type": "markdown",
   "metadata": {},
   "source": [
    "Q3: How can K-fold cross validation be used for selecting the best tuning parameters, and\n",
    "the best features?\n",
    "- Use K-fold cross validation to find the best n_neighbors parameter"
   ]
  },
  {
   "cell_type": "code",
   "execution_count": 10,
   "metadata": {},
   "outputs": [
    {
     "name": "stdout",
     "output_type": "stream",
     "text": [
      "[0.95833333333333337, 0.95833333333333337, 0.96666666666666667, 0.96666666666666667, 0.97499999999999998, 0.96666666666666667, 0.97499999999999998, 0.97499999999999998, 0.96666666666666667, 0.96666666666666667, 0.96666666666666667, 0.95833333333333337, 0.96666666666666667, 0.96666666666666667, 0.97499999999999998]\n"
     ]
    }
   ],
   "source": [
    "# multiples try with k neighbors variations:\n",
    "\n",
    "# Split datas in 2 parts (80% for trainning/validation and 20% for test)\n",
    "X_train, X_test, y_train, y_test = train_test_split(X, y, test_size=0.2, random_state=42, shuffle=True, stratify=y)\n",
    "\n",
    "res =[]\n",
    "v = range(1, 16)\n",
    "for k in v:\n",
    "    clf = neighbors.KNeighborsClassifier(n_neighbors=k, weights='distance')\n",
    "    scores = cross_val_score(clf, X_train, y_train, cv=4)\n",
    "    res.append(scores.mean())\n",
    "    \n",
    "\n",
    "print(res)"
   ]
  },
  {
   "cell_type": "markdown",
   "metadata": {},
   "source": [
    "Best score for k is 0.975 (5, 7, 8, 15)."
   ]
  },
  {
   "cell_type": "markdown",
   "metadata": {},
   "source": [
    "Plot the accuracy as a function of n_neighbors:"
   ]
  },
  {
   "cell_type": "code",
   "execution_count": 11,
   "metadata": {},
   "outputs": [
    {
     "data": {
      "text/plain": [
       "[<matplotlib.lines.Line2D at 0xb06470>]"
      ]
     },
     "execution_count": 11,
     "metadata": {},
     "output_type": "execute_result"
    },
    {
     "data": {
      "image/png": "[encoded data removed]",
      "text/plain": [
       "<Figure size 432x288 with 1 Axes>"
      ]
     },
     "metadata": {},
     "output_type": "display_data"
    }
   ],
   "source": [
    "fig = plt.figure()\n",
    "plt.plot(v, res, '-bo')"
   ]
  },
  {
   "cell_type": "markdown",
   "metadata": {},
   "source": [
    "Q4: What is the best n_neighbors parameter for your experiment?\n",
    "\n",
    "5, 7, 8, 15 neighbours having best result (0.75)\n",
    "\n",
    "I keep 5 to avoid useless calculations"
   ]
  },
  {
   "cell_type": "markdown",
   "metadata": {},
   "source": [
    "Q5: How could you improve your k-fold cross validation strategy?\n",
    "\n",
    "Try with differents features and features combinations. The purpose is to detect good features and perhaps different \"weights\" for features.\n",
    "\n",
    "In case of massive diffences between scale a good move may be to normalize features values."
   ]
  },
  {
   "cell_type": "code",
   "execution_count": 12,
   "metadata": {},
   "outputs": [
    {
     "name": "stdout",
     "output_type": "stream",
     "text": [
      "Accuracy = 1.0\n",
      "Precision = [ 1.  1.  1.]\n",
      "Report =\n",
      "              precision    recall  f1-score   support\n",
      "\n",
      "          0       1.00      1.00      1.00        10\n",
      "          1       1.00      1.00      1.00        10\n",
      "          2       1.00      1.00      1.00        10\n",
      "\n",
      "avg / total       1.00      1.00      1.00        30\n",
      "\n"
     ]
    }
   ],
   "source": [
    "# Print a classification report\n",
    "\n",
    "# Split datas in 2 parts (80% for trainning/validation and 20% for test)\n",
    "X_train, X_test, y_train, y_test = train_test_split(X, y, test_size=0.2, random_state=42, shuffle=True, stratify=y)\n",
    "\n",
    "clf = neighbors.KNeighborsClassifier(n_neighbors=5, weights='distance')\n",
    "\n",
    "# specify trainning (K-NN) set\n",
    "clf.fit(X_train, y_train)\n",
    "# ask for prediction\n",
    "y_pred = clf.predict(X_test)\n",
    "# compute scores\n",
    "accuracy_score = metrics.accuracy_score(y_test, y_pred)\n",
    "precision_score = metrics.precision_score(y_test, y_pred, average=None)\n",
    "classification_report = metrics.classification_report(y_test, y_pred)\n",
    "print('Accuracy =', accuracy_score)\n",
    "print('Precision =', precision_score)\n",
    "print('Report =\\n', classification_report)"
   ]
  },
  {
   "cell_type": "code",
   "execution_count": 13,
   "metadata": {},
   "outputs": [
    {
     "name": "stdout",
     "output_type": "stream",
     "text": [
      "Confusion matrix:\n",
      "[[10  0  0]\n",
      " [ 0 10  0]\n",
      " [ 0  0 10]]\n"
     ]
    }
   ],
   "source": [
    "# Print, and plot a confusion matrix\n",
    "print(\"Confusion matrix:\\n%s\" % metrics.confusion_matrix(y_test, y_pred))"
   ]
  },
  {
   "cell_type": "code",
   "execution_count": 14,
   "metadata": {},
   "outputs": [],
   "source": [
    "def plot_confusion_matrix(cm, classes,\n",
    "                          normalize=False,\n",
    "                          title='Confusion matrix',\n",
    "                          cmap=plt.cm.Blues):\n",
    "    \"\"\"\n",
    "    This function prints and plots the confusion matrix.\n",
    "    Normalization can be applied by setting `normalize=True`.\n",
    "    \"\"\"\n",
    "    if normalize:\n",
    "        cm = cm.astype('float') / cm.sum(axis=1)[:, np.newaxis]\n",
    "        print(\"Normalized confusion matrix\")\n",
    "    else:\n",
    "        print('Confusion matrix, without normalization')\n",
    "\n",
    "    #print(cm)\n",
    "\n",
    "    plt.imshow(cm, interpolation='nearest', cmap=cmap)\n",
    "    plt.title(title)\n",
    "    plt.colorbar()\n",
    "    tick_marks = np.arange(len(classes))\n",
    "    plt.xticks(tick_marks, classes, rotation=45)\n",
    "    plt.yticks(tick_marks, classes)\n",
    "\n",
    "    fmt = '.2f' if normalize else 'd'\n",
    "    thresh = cm.max() / 2.\n",
    "    for i, j in itertools.product(range(cm.shape[0]), range(cm.shape[1])):\n",
    "        plt.text(j, i, format(cm[i, j], fmt),\n",
    "                 horizontalalignment=\"center\",\n",
    "                 color=\"white\" if cm[i, j] > thresh else \"black\")\n",
    "\n",
    "    plt.tight_layout()\n",
    "    plt.ylabel('True label')\n",
    "    plt.xlabel('Predicted label')"
   ]
  },
  {
   "cell_type": "code",
   "execution_count": 15,
   "metadata": {},
   "outputs": [
    {
     "name": "stdout",
     "output_type": "stream",
     "text": [
      "Confusion matrix, without normalization\n"
     ]
    },
    {
     "data": {
      "image/png": "[encoded data removed]",
      "text/plain": [
       "<Figure size 432x288 with 2 Axes>"
      ]
     },
     "metadata": {},
     "output_type": "display_data"
    }
   ],
   "source": [
    "cm = metrics.confusion_matrix(y_test, y_pred)\n",
    "cls = np.unique(y)\n",
    "plot_confusion_matrix(cm,cls,title='Confusion matrix',cmap=plt.cm.Greens)"
   ]
  },
  {
   "cell_type": "markdown",
   "metadata": {},
   "source": [
    "Q6: Based on the classification report and the confusion matrix, evaluate (explain in details)\n",
    "your classifier performance.\n",
    "\n",
    "The iris dataset seem's to be a little to easy ...\n",
    "\n",
    "Next time i would use a different. But procedure stay the same:\n",
    "    1. Split data between trainning/validation/test set.\n",
    "    2. Iterate on trainning and validation set to find bests parameters and meta-parameters\n",
    "    3. Launch final test and compute result (classification report and confusion matrix)"
   ]
  },
  {
   "cell_type": "code",
   "execution_count": 16,
   "metadata": {},
   "outputs": [
    {
     "name": "stdout",
     "output_type": "stream",
     "text": [
      "(70000, 784)\n",
      "(70000,)\n",
      "[ 0.  1.  2.  3.  4.  5.  6.  7.  8.  9.]\n"
     ]
    }
   ],
   "source": [
    "# More complicated ....\n",
    "from sklearn.datasets import fetch_mldata\n",
    "mnist = fetch_mldata('MNIST original', data_home='./')\n",
    "\n",
    "print(mnist.data.shape)\n",
    "print(mnist.target.shape)\n",
    "print(np.unique(mnist.target))"
   ]
  },
  {
   "cell_type": "code",
   "execution_count": 17,
   "metadata": {},
   "outputs": [
    {
     "data": {
      "text/plain": [
       "[<matplotlib.lines.Line2D at 0xd233f0>]"
      ]
     },
     "execution_count": 17,
     "metadata": {},
     "output_type": "execute_result"
    },
    {
     "data": {
      "image/png": "[encoded data removed]",
      "text/plain": [
       "<Figure size 432x288 with 1 Axes>"
      ]
     },
     "metadata": {},
     "output_type": "display_data"
    }
   ],
   "source": [
    "# We are sampling (1/100) => data = 70000 / 100 = 700 rows (just to save time ....)\n",
    "X = mnist.data[::100]\n",
    "y = mnist.target[::100]\n",
    "\n",
    "# Split datas in 2 parts (80% for trainning/validation and 20% for test)\n",
    "X_train, X_test, y_train, y_test = train_test_split(X, y, test_size=0.2, random_state=42, shuffle=True, stratify=y)\n",
    "\n",
    "res =[]\n",
    "v = range(1, 16)\n",
    "for k in v:\n",
    "    clf = neighbors.KNeighborsClassifier(n_neighbors=k, weights='distance')\n",
    "    scores = cross_val_score(clf, X_train, y_train, cv=4)\n",
    "    res.append(scores.mean())\n",
    "    \n",
    "fig = plt.figure()\n",
    "plt.plot(v, res, '-bo')"
   ]
  },
  {
   "cell_type": "code",
   "execution_count": 18,
   "metadata": {},
   "outputs": [
    {
     "name": "stdout",
     "output_type": "stream",
     "text": [
      "Accuracy = 0.871428571429\n",
      "Precision = [ 0.93333333  0.84210526  1.          0.75        0.86666667  0.90909091\n",
      "  0.92307692  0.93333333  0.8         0.8       ]\n",
      "Report =\n",
      "              precision    recall  f1-score   support\n",
      "\n",
      "        0.0       0.93      1.00      0.97        14\n",
      "        1.0       0.84      1.00      0.91        16\n",
      "        2.0       1.00      0.79      0.88        14\n",
      "        3.0       0.75      0.86      0.80        14\n",
      "        4.0       0.87      0.93      0.90        14\n",
      "        5.0       0.91      0.77      0.83        13\n",
      "        6.0       0.92      0.92      0.92        13\n",
      "        7.0       0.93      0.93      0.93        15\n",
      "        8.0       0.80      0.62      0.70        13\n",
      "        9.0       0.80      0.86      0.83        14\n",
      "\n",
      "avg / total       0.88      0.87      0.87       140\n",
      "\n"
     ]
    }
   ],
   "source": [
    "# keep 2 neighbors\n",
    "clf = neighbors.KNeighborsClassifier(n_neighbors=2, weights='distance')\n",
    "\n",
    "# specify trainning (K-NN) set\n",
    "clf.fit(X_train, y_train)\n",
    "# ask for prediction\n",
    "y_pred = clf.predict(X_test)\n",
    "# compute scores\n",
    "accuracy_score = metrics.accuracy_score(y_test, y_pred)\n",
    "precision_score = metrics.precision_score(y_test, y_pred, average=None)\n",
    "classification_report = metrics.classification_report(y_test, y_pred)\n",
    "print('Accuracy =', accuracy_score)\n",
    "print('Precision =', precision_score)\n",
    "print('Report =\\n', classification_report)"
   ]
  },
  {
   "cell_type": "code",
   "execution_count": 19,
   "metadata": {},
   "outputs": [
    {
     "name": "stdout",
     "output_type": "stream",
     "text": [
      "Confusion matrix:\n",
      "[[14  0  0  0  0  0  0  0  0  0]\n",
      " [ 0 16  0  0  0  0  0  0  0  0]\n",
      " [ 0  0 11  2  0  0  0  0  1  0]\n",
      " [ 0  1  0 12  0  0  0  0  0  1]\n",
      " [ 0  1  0  0 13  0  0  0  0  0]\n",
      " [ 0  0  0  1  1 10  0  0  1  0]\n",
      " [ 1  0  0  0  0  0 12  0  0  0]\n",
      " [ 0  0  0  0  0  0  0 14  0  1]\n",
      " [ 0  1  0  1  0  1  1  0  8  1]\n",
      " [ 0  0  0  0  1  0  0  1  0 12]]\n",
      "Confusion matrix, without normalization\n"
     ]
    },
    {
     "data": {
      "image/png": "[encoded data removed]",
      "text/plain": [
       "<Figure size 432x288 with 2 Axes>"
      ]
     },
     "metadata": {},
     "output_type": "display_data"
    }
   ],
   "source": [
    "# Print, and plot a confusion matrix\n",
    "print(\"Confusion matrix:\\n%s\" % metrics.confusion_matrix(y_test, y_pred))\n",
    "cm = metrics.confusion_matrix(y_test, y_pred)\n",
    "cls = np.unique(y)\n",
    "plot_confusion_matrix(cm,cls,title='Confusion matrix',cmap=plt.cm.Greens)"
   ]
  },
  {
   "cell_type": "markdown",
   "metadata": {},
   "source": [
    "Q6: Based on the classification report and the confusion matrix, evaluate (explain in details) your classifier performance.\n",
    "    \n",
    "    1. We have 0.88 average precision score\n",
    "    2. The recall and F1 score follow the same proportions\n",
    "    3. In confusion matrix:\n",
    "        1.The max error is on 8 character which has been considered:\n",
    "            1. as 1 (1 time)\n",
    "            2. as 3 (1 time)\n",
    "            3. as 5 (1 time)\n",
    "            4. as 6 (1 time)\n",
    "            5. as 9 (1 time)\n",
    "        2.The 2 character as been mistargeted 2 time as a 3."
   ]
  },
  {
   "cell_type": "code",
   "execution_count": null,
   "metadata": {},
   "outputs": [],
   "source": []
  }
 ],
 "metadata": {
  "kernelspec": {
   "display_name": "Python 3",
   "language": "python",
   "name": "python3"
  },
  "language_info": {
   "codemirror_mode": {
    "name": "ipython",
    "version": 3
   },
   "file_extension": ".py",
   "mimetype": "text/x-python",
   "name": "python",
   "nbconvert_exporter": "python",
   "pygments_lexer": "ipython3",
   "version": "3.6.4"
  }
 },
 "nbformat": 4,
 "nbformat_minor": 2
}
