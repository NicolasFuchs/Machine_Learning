{
 "cells": [
  {
   "cell_type": "code",
   "execution_count": 1,
   "metadata": {},
   "outputs": [],
   "source": [
    "%matplotlib inline"
   ]
  },
  {
   "cell_type": "code",
   "execution_count": 18,
   "metadata": {},
   "outputs": [],
   "source": [
    "def normalize_feature(minRange, maxRange, values):\n",
    "    minVal = values[0]\n",
    "    maxVal = values[0]\n",
    "    \n",
    "    for val in values:\n",
    "        minVal = min(minVal,val)\n",
    "        maxVal = max(maxVal,val)\n",
    "\n",
    "    for (i,val) in enumerate(values):\n",
    "        values[i] = (val - minVal) / (maxVal - minVal) * (maxRange-minRange) + minRange\n",
    "    \n",
    "    return values"
   ]
  },
  {
   "cell_type": "code",
   "execution_count": 20,
   "metadata": {},
   "outputs": [
    {
     "data": {
      "text/plain": [
       "[1.6666666666666665,\n",
       " 0.0,\n",
       " 4.487179487179487,\n",
       " 10.0,\n",
       " 1.4102564102564101,\n",
       " 0.38461538461538464,\n",
       " 7.17948717948718]"
      ]
     },
     "execution_count": 20,
     "metadata": {},
     "output_type": "execute_result"
    }
   ],
   "source": [
    "test = [23,10,45,88,21,13,66]\n",
    "t = normalize_feature(0,10,test)\n",
    "t"
   ]
  },
  {
   "cell_type": "markdown",
   "metadata": {},
   "source": [
    "Q1: Is it always useful to apply feature normalization? If you don’t think so, give an example.\n",
    "\n",
    "NO:\n",
    "\n",
    "1) Of course for all non-numeric values. (\"White\", \"Black\", \"Pink\", ....)\n",
    "\n",
    "2) For all great selectivity values (0,1,2)  (50, 70, 1200).\n"
   ]
  },
  {
   "cell_type": "code",
   "execution_count": 21,
   "metadata": {},
   "outputs": [],
   "source": [
    "import numpy as np\n",
    "import matplotlib\n",
    "import matplotlib.pyplot as plt\n",
    "from matplotlib.colors import ListedColormap\n",
    "from sklearn import neighbors, datasets\n",
    "\n",
    "# import some data to play with\n",
    "iris = datasets.load_iris()\n",
    "X = iris.data\n",
    "y = iris.target"
   ]
  },
  {
   "cell_type": "markdown",
   "metadata": {},
   "source": [
    "We have 150 rows in our dataset.\n",
    "We choose 5 as number of folds\n",
    "\n",
    "First we shuffle the dataset to avoid having only one class in one fold"
   ]
  },
  {
   "cell_type": "code",
   "execution_count": 25,
   "metadata": {},
   "outputs": [],
   "source": [
    "import random\n",
    "def shuffle(liste1, liste2, seed):\n",
    "    random.seed(seed)\n",
    "    random.shuffle(liste1)\n",
    "    random.seed(seed)\n",
    "    random.shuffle(liste2)    "
   ]
  },
  {
   "cell_type": "code",
   "execution_count": 27,
   "metadata": {},
   "outputs": [
    {
     "name": "stdout",
     "output_type": "stream",
     "text": [
      "['f', 'd', 'c', 'e', 'b', 'a']\n",
      "[6, 4, 3, 5, 2, 1]\n"
     ]
    }
   ],
   "source": [
    "t1=['a','b','c','d','e','f']\n",
    "t2=[1,2,3,4,5,6]\n",
    "shuffle(t1,t2,55)\n",
    "print(t1)\n",
    "print(t2)"
   ]
  },
  {
   "cell_type": "code",
   "execution_count": 28,
   "metadata": {},
   "outputs": [],
   "source": [
    "shuffle(X,y,42)"
   ]
  },
  {
   "cell_type": "markdown",
   "metadata": {},
   "source": [
    "We have 4 iterations with 3 folds for trainning set and 1 for validation (the last one is kept for testing)"
   ]
  },
  {
   "cell_type": "code",
   "execution_count": null,
   "metadata": {},
   "outputs": [],
   "source": [
    "def train_valid_split(train,valid,numberSegment,segmentValid):\n",
    "    lenTab = "
   ]
  }
 ],
 "metadata": {
  "kernelspec": {
   "display_name": "Python 3",
   "language": "python",
   "name": "python3"
  },
  "language_info": {
   "codemirror_mode": {
    "name": "ipython",
    "version": 3
   },
   "file_extension": ".py",
   "mimetype": "text/x-python",
   "name": "python",
   "nbconvert_exporter": "python",
   "pygments_lexer": "ipython3",
   "version": "3.6.4"
  }
 },
 "nbformat": 4,
 "nbformat_minor": 2
}
